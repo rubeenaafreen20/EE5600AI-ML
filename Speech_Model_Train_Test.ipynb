{
  "nbformat": 4,
  "nbformat_minor": 0,
  "metadata": {
    "colab": {
      "name": "Speech_Model_Train_Test.ipynb",
      "provenance": [],
      "collapsed_sections": [],
      "authorship_tag": "ABX9TyNeLB/aiXfnGMBf4l3P1KYk",
      "include_colab_link": true
    },
    "kernelspec": {
      "name": "python3",
      "display_name": "Python 3"
    },
    "accelerator": "GPU"
  },
  "cells": [
    {
      "cell_type": "markdown",
      "metadata": {
        "id": "view-in-github",
        "colab_type": "text"
      },
      "source": [
        "<a href=\"https://colab.research.google.com/github/rubeenaafreen20/EE5600AI-ML/blob/master/Speech_Model_Train_Test.ipynb\" target=\"_parent\"><img src=\"https://colab.research.google.com/assets/colab-badge.svg\" alt=\"Open In Colab\"/></a>"
      ]
    },
    {
      "cell_type": "code",
      "metadata": {
        "id": "QbDiS4ZC5R0e",
        "outputId": "14786906-5542-4307-f474-61f135fb2c4e",
        "colab": {
          "base_uri": "https://localhost:8080/",
          "height": 1000
        }
      },
      "source": [
        "%pip install kapre==0.1.7\n",
        "%pip install soundfile"
      ],
      "execution_count": 1,
      "outputs": [
        {
          "output_type": "stream",
          "text": [
            "Collecting kapre==0.1.7\n",
            "  Downloading https://files.pythonhosted.org/packages/76/c0/0fa10cd05a8368d5bd5381a4854b8f392cba924c8a5f1a9d8804c6d2376c/kapre-0.1.7.tar.gz\n",
            "Requirement already satisfied: numpy>=1.8.0 in /usr/local/lib/python3.6/dist-packages (from kapre==0.1.7) (1.18.5)\n",
            "Requirement already satisfied: librosa>=0.5 in /usr/local/lib/python3.6/dist-packages (from kapre==0.1.7) (0.6.3)\n",
            "Requirement already satisfied: tensorflow>=1.15 in /usr/local/lib/python3.6/dist-packages (from kapre==0.1.7) (2.3.0)\n",
            "Requirement already satisfied: numba>=0.38.0 in /usr/local/lib/python3.6/dist-packages (from librosa>=0.5->kapre==0.1.7) (0.48.0)\n",
            "Requirement already satisfied: decorator>=3.0.0 in /usr/local/lib/python3.6/dist-packages (from librosa>=0.5->kapre==0.1.7) (4.4.2)\n",
            "Requirement already satisfied: six>=1.3 in /usr/local/lib/python3.6/dist-packages (from librosa>=0.5->kapre==0.1.7) (1.15.0)\n",
            "Requirement already satisfied: audioread>=2.0.0 in /usr/local/lib/python3.6/dist-packages (from librosa>=0.5->kapre==0.1.7) (2.1.8)\n",
            "Requirement already satisfied: scipy>=1.0.0 in /usr/local/lib/python3.6/dist-packages (from librosa>=0.5->kapre==0.1.7) (1.4.1)\n",
            "Requirement already satisfied: joblib>=0.12 in /usr/local/lib/python3.6/dist-packages (from librosa>=0.5->kapre==0.1.7) (0.16.0)\n",
            "Requirement already satisfied: scikit-learn!=0.19.0,>=0.14.0 in /usr/local/lib/python3.6/dist-packages (from librosa>=0.5->kapre==0.1.7) (0.22.2.post1)\n",
            "Requirement already satisfied: resampy>=0.2.0 in /usr/local/lib/python3.6/dist-packages (from librosa>=0.5->kapre==0.1.7) (0.2.2)\n",
            "Requirement already satisfied: astunparse==1.6.3 in /usr/local/lib/python3.6/dist-packages (from tensorflow>=1.15->kapre==0.1.7) (1.6.3)\n",
            "Requirement already satisfied: gast==0.3.3 in /usr/local/lib/python3.6/dist-packages (from tensorflow>=1.15->kapre==0.1.7) (0.3.3)\n",
            "Requirement already satisfied: h5py<2.11.0,>=2.10.0 in /usr/local/lib/python3.6/dist-packages (from tensorflow>=1.15->kapre==0.1.7) (2.10.0)\n",
            "Requirement already satisfied: google-pasta>=0.1.8 in /usr/local/lib/python3.6/dist-packages (from tensorflow>=1.15->kapre==0.1.7) (0.2.0)\n",
            "Requirement already satisfied: keras-preprocessing<1.2,>=1.1.1 in /usr/local/lib/python3.6/dist-packages (from tensorflow>=1.15->kapre==0.1.7) (1.1.2)\n",
            "Requirement already satisfied: opt-einsum>=2.3.2 in /usr/local/lib/python3.6/dist-packages (from tensorflow>=1.15->kapre==0.1.7) (3.3.0)\n",
            "Requirement already satisfied: protobuf>=3.9.2 in /usr/local/lib/python3.6/dist-packages (from tensorflow>=1.15->kapre==0.1.7) (3.12.4)\n",
            "Requirement already satisfied: tensorflow-estimator<2.4.0,>=2.3.0 in /usr/local/lib/python3.6/dist-packages (from tensorflow>=1.15->kapre==0.1.7) (2.3.0)\n",
            "Requirement already satisfied: wrapt>=1.11.1 in /usr/local/lib/python3.6/dist-packages (from tensorflow>=1.15->kapre==0.1.7) (1.12.1)\n",
            "Requirement already satisfied: grpcio>=1.8.6 in /usr/local/lib/python3.6/dist-packages (from tensorflow>=1.15->kapre==0.1.7) (1.32.0)\n",
            "Requirement already satisfied: wheel>=0.26 in /usr/local/lib/python3.6/dist-packages (from tensorflow>=1.15->kapre==0.1.7) (0.35.1)\n",
            "Requirement already satisfied: tensorboard<3,>=2.3.0 in /usr/local/lib/python3.6/dist-packages (from tensorflow>=1.15->kapre==0.1.7) (2.3.0)\n",
            "Requirement already satisfied: absl-py>=0.7.0 in /usr/local/lib/python3.6/dist-packages (from tensorflow>=1.15->kapre==0.1.7) (0.10.0)\n",
            "Requirement already satisfied: termcolor>=1.1.0 in /usr/local/lib/python3.6/dist-packages (from tensorflow>=1.15->kapre==0.1.7) (1.1.0)\n",
            "Requirement already satisfied: setuptools in /usr/local/lib/python3.6/dist-packages (from numba>=0.38.0->librosa>=0.5->kapre==0.1.7) (50.3.0)\n",
            "Requirement already satisfied: llvmlite<0.32.0,>=0.31.0dev0 in /usr/local/lib/python3.6/dist-packages (from numba>=0.38.0->librosa>=0.5->kapre==0.1.7) (0.31.0)\n",
            "Requirement already satisfied: google-auth-oauthlib<0.5,>=0.4.1 in /usr/local/lib/python3.6/dist-packages (from tensorboard<3,>=2.3.0->tensorflow>=1.15->kapre==0.1.7) (0.4.1)\n",
            "Requirement already satisfied: werkzeug>=0.11.15 in /usr/local/lib/python3.6/dist-packages (from tensorboard<3,>=2.3.0->tensorflow>=1.15->kapre==0.1.7) (1.0.1)\n",
            "Requirement already satisfied: requests<3,>=2.21.0 in /usr/local/lib/python3.6/dist-packages (from tensorboard<3,>=2.3.0->tensorflow>=1.15->kapre==0.1.7) (2.23.0)\n",
            "Requirement already satisfied: tensorboard-plugin-wit>=1.6.0 in /usr/local/lib/python3.6/dist-packages (from tensorboard<3,>=2.3.0->tensorflow>=1.15->kapre==0.1.7) (1.7.0)\n",
            "Requirement already satisfied: markdown>=2.6.8 in /usr/local/lib/python3.6/dist-packages (from tensorboard<3,>=2.3.0->tensorflow>=1.15->kapre==0.1.7) (3.2.2)\n",
            "Requirement already satisfied: google-auth<2,>=1.6.3 in /usr/local/lib/python3.6/dist-packages (from tensorboard<3,>=2.3.0->tensorflow>=1.15->kapre==0.1.7) (1.17.2)\n",
            "Requirement already satisfied: requests-oauthlib>=0.7.0 in /usr/local/lib/python3.6/dist-packages (from google-auth-oauthlib<0.5,>=0.4.1->tensorboard<3,>=2.3.0->tensorflow>=1.15->kapre==0.1.7) (1.3.0)\n",
            "Requirement already satisfied: chardet<4,>=3.0.2 in /usr/local/lib/python3.6/dist-packages (from requests<3,>=2.21.0->tensorboard<3,>=2.3.0->tensorflow>=1.15->kapre==0.1.7) (3.0.4)\n",
            "Requirement already satisfied: idna<3,>=2.5 in /usr/local/lib/python3.6/dist-packages (from requests<3,>=2.21.0->tensorboard<3,>=2.3.0->tensorflow>=1.15->kapre==0.1.7) (2.10)\n",
            "Requirement already satisfied: certifi>=2017.4.17 in /usr/local/lib/python3.6/dist-packages (from requests<3,>=2.21.0->tensorboard<3,>=2.3.0->tensorflow>=1.15->kapre==0.1.7) (2020.6.20)\n",
            "Requirement already satisfied: urllib3!=1.25.0,!=1.25.1,<1.26,>=1.21.1 in /usr/local/lib/python3.6/dist-packages (from requests<3,>=2.21.0->tensorboard<3,>=2.3.0->tensorflow>=1.15->kapre==0.1.7) (1.24.3)\n",
            "Requirement already satisfied: importlib-metadata; python_version < \"3.8\" in /usr/local/lib/python3.6/dist-packages (from markdown>=2.6.8->tensorboard<3,>=2.3.0->tensorflow>=1.15->kapre==0.1.7) (2.0.0)\n",
            "Requirement already satisfied: cachetools<5.0,>=2.0.0 in /usr/local/lib/python3.6/dist-packages (from google-auth<2,>=1.6.3->tensorboard<3,>=2.3.0->tensorflow>=1.15->kapre==0.1.7) (4.1.1)\n",
            "Requirement already satisfied: pyasn1-modules>=0.2.1 in /usr/local/lib/python3.6/dist-packages (from google-auth<2,>=1.6.3->tensorboard<3,>=2.3.0->tensorflow>=1.15->kapre==0.1.7) (0.2.8)\n",
            "Requirement already satisfied: rsa<5,>=3.1.4; python_version >= \"3\" in /usr/local/lib/python3.6/dist-packages (from google-auth<2,>=1.6.3->tensorboard<3,>=2.3.0->tensorflow>=1.15->kapre==0.1.7) (4.6)\n",
            "Requirement already satisfied: oauthlib>=3.0.0 in /usr/local/lib/python3.6/dist-packages (from requests-oauthlib>=0.7.0->google-auth-oauthlib<0.5,>=0.4.1->tensorboard<3,>=2.3.0->tensorflow>=1.15->kapre==0.1.7) (3.1.0)\n",
            "Requirement already satisfied: zipp>=0.5 in /usr/local/lib/python3.6/dist-packages (from importlib-metadata; python_version < \"3.8\"->markdown>=2.6.8->tensorboard<3,>=2.3.0->tensorflow>=1.15->kapre==0.1.7) (3.2.0)\n",
            "Requirement already satisfied: pyasn1<0.5.0,>=0.4.6 in /usr/local/lib/python3.6/dist-packages (from pyasn1-modules>=0.2.1->google-auth<2,>=1.6.3->tensorboard<3,>=2.3.0->tensorflow>=1.15->kapre==0.1.7) (0.4.8)\n",
            "Building wheels for collected packages: kapre\n",
            "  Building wheel for kapre (setup.py) ... \u001b[?25l\u001b[?25hdone\n",
            "  Created wheel for kapre: filename=kapre-0.1.7-cp36-none-any.whl size=11663 sha256=982e63c79229496f07bbaa8da3094bd851649b51dff243fb5a01c8795ef05054\n",
            "  Stored in directory: /root/.cache/pip/wheels/80/b0/36/f8ef462364784fcb1b7782e73ec59821162318ec28556516b6\n",
            "Successfully built kapre\n",
            "Installing collected packages: kapre\n",
            "  Found existing installation: kapre 0.1.3.1\n",
            "    Uninstalling kapre-0.1.3.1:\n",
            "      Successfully uninstalled kapre-0.1.3.1\n",
            "Successfully installed kapre-0.1.7\n",
            "Collecting soundfile\n",
            "  Downloading https://files.pythonhosted.org/packages/eb/f2/3cbbbf3b96fb9fa91582c438b574cff3f45b29c772f94c400e2c99ef5db9/SoundFile-0.10.3.post1-py2.py3-none-any.whl\n",
            "Requirement already satisfied: cffi>=1.0 in /usr/local/lib/python3.6/dist-packages (from soundfile) (1.14.3)\n",
            "Requirement already satisfied: pycparser in /usr/local/lib/python3.6/dist-packages (from cffi>=1.0->soundfile) (2.20)\n",
            "Installing collected packages: soundfile\n",
            "Successfully installed soundfile-0.10.3.post1\n"
          ],
          "name": "stdout"
        }
      ]
    },
    {
      "cell_type": "code",
      "metadata": {
        "id": "50ygQxs3_dHt"
      },
      "source": [
        "import os\n",
        "import numpy as np\n",
        "import kapre\n",
        "import librosa\n",
        "import random\n",
        "import tensorflow as tf\n",
        "import soundfile as sf\n",
        "from tensorflow.keras import layers as L\n",
        "from tensorflow.keras.models import Sequential,Model\n",
        "from kapre.time_frequency import Melspectrogram\n",
        "from kapre.utils import Normalization2D\n",
        "from tensorflow.keras import backend as K\n",
        "from sklearn.model_selection import train_test_split"
      ],
      "execution_count": 2,
      "outputs": []
    },
    {
      "cell_type": "code",
      "metadata": {
        "id": "BDToorRI_tcL",
        "outputId": "91b5bad4-5339-4070-e107-cfbb670cf262",
        "colab": {
          "base_uri": "https://localhost:8080/",
          "height": 34
        }
      },
      "source": [
        "from google.colab import drive\n",
        "drive.mount('/content/drive')"
      ],
      "execution_count": 3,
      "outputs": [
        {
          "output_type": "stream",
          "text": [
            "Mounted at /content/drive\n"
          ],
          "name": "stdout"
        }
      ]
    },
    {
      "cell_type": "markdown",
      "metadata": {
        "id": "9FlSWOTvAWaf"
      },
      "source": [
        "# **Generate Data**"
      ]
    },
    {
      "cell_type": "code",
      "metadata": {
        "id": "Cfrrs8TaAbUH",
        "outputId": "dd281b91-68ce-4fc6-9280-ed3ee8a82d39",
        "colab": {
          "base_uri": "https://localhost:8080/",
          "height": 102
        }
      },
      "source": [
        "data_dir = '/content/drive/My Drive/Aafreen_AIML/Dataset/'\n",
        "os.chdir(data_dir)\n",
        "\n",
        "data_x = []\n",
        "data_y = []\n",
        "for a,i in enumerate(['back','forward','left','right','stop']):\n",
        "    lis = os.listdir(data_dir+i)\n",
        "    for j in lis:\n",
        "        l,sr = sf.read(data_dir+i+'/'+j)\n",
        "        #print(len(l))\n",
        "        #if(len(l)>=8000):\n",
        "        data_x.append(l[0:8000])\n",
        "        data_y.append(a)\n",
        "        #else:\n",
        "        #    print(i)\n",
        "    print(i,\" Done\")\n",
        "\n",
        "data_x = np.array(data_x)\n",
        "data_y = np.array(data_y)\n",
        "\n",
        "\n",
        "np.save('x.npy',data_x)\n",
        "np.save('y.npy',data_y)"
      ],
      "execution_count": 4,
      "outputs": [
        {
          "output_type": "stream",
          "text": [
            "back  Done\n",
            "forward  Done\n",
            "left  Done\n",
            "right  Done\n",
            "stop  Done\n"
          ],
          "name": "stdout"
        }
      ]
    },
    {
      "cell_type": "markdown",
      "metadata": {
        "id": "gGAsY6TJCZi9"
      },
      "source": [
        "# **Splitting Data into Train and Test**"
      ]
    },
    {
      "cell_type": "code",
      "metadata": {
        "id": "Nos_f8ZzCf0m"
      },
      "source": [
        "from sklearn.model_selection import train_test_split\n",
        "import numpy as np\n",
        "np_load_old = np.load\n",
        "\n",
        "np.load = lambda *a,**k: np_load_old(*a, allow_pickle=True, **k)\n",
        "\n",
        "data_x = np.load('x.npy')\n",
        "data_y = np.load('y.npy')\n",
        "tr_x,te_x, tr_y,te_y = train_test_split(data_x,data_y,stratify=data_y,random_state=103,test_size=0.4)\n",
        "np.load = np_load_old"
      ],
      "execution_count": 18,
      "outputs": []
    },
    {
      "cell_type": "code",
      "metadata": {
        "id": "pAXvBsRiC1Qh",
        "outputId": "9428a9c4-75d6-45cb-e795-5e72c73baea0",
        "colab": {
          "base_uri": "https://localhost:8080/",
          "height": 34
        }
      },
      "source": [
        "data_x.shape"
      ],
      "execution_count": 19,
      "outputs": [
        {
          "output_type": "execute_result",
          "data": {
            "text/plain": [
              "(400, 8000)"
            ]
          },
          "metadata": {
            "tags": []
          },
          "execution_count": 19
        }
      ]
    },
    {
      "cell_type": "code",
      "metadata": {
        "id": "DZS45wFgDDHB"
      },
      "source": [
        "\n",
        "x_train = []\n",
        "y_train = []\n",
        "for i,j in enumerate(tr_x):\n",
        "    x= len(j)\n",
        "    p = 25000-x\n",
        "    for y in range(1 ,p, 500):\n",
        "        nx = np.zeros(25000)\n",
        "        nx[y:y+x] =j\n",
        "        x_train.append(nx)\n",
        "        y_train.append(tr_y[i])\n",
        "x_train = np.array(x_train)\n",
        "y_train = np.array(y_train)\n",
        "\n",
        "x_test = []\n",
        "y_test = []\n",
        "for i,j in enumerate(te_x):\n",
        "    x= len(j)\n",
        "    p = 25000-x\n",
        "    for y in range(1 ,p, 500):\n",
        "        nx = np.zeros(25000)\n",
        "        nx[y:y+x] =j\n",
        "        x_test.append(nx)\n",
        "        y_test.append(te_y[i])\n",
        "x_test = np.array(x_test)\n",
        "y_test = np.array(y_test)\n",
        "\n",
        "np.save('x_train.npy',x_train)\n",
        "np.save('y_train.npy',y_train)\n",
        "np.save('x_test.npy',x_test)\n",
        "np.save('y_test.npy',y_test)"
      ],
      "execution_count": 7,
      "outputs": []
    },
    {
      "cell_type": "markdown",
      "metadata": {
        "id": "YYxsfagJDVnw"
      },
      "source": [
        "# **Extract Features**"
      ]
    },
    {
      "cell_type": "code",
      "metadata": {
        "id": "QP8lMwg-DaNf"
      },
      "source": [
        "mfcc = Sequential()\n",
        "mfcc.add(L.Reshape((1, -1)))\n",
        "mfcc.add(Melspectrogram(padding='same', sr=16000, n_mels=39, n_dft = 1024,\n",
        "                        power_melgram=2.0, return_decibel_melgram=True,\n",
        "                        trainable_fb=False, trainable_kernel=False,\n",
        "                        name='mel_stft'))\n",
        "mfcc.add(Normalization2D(str_axis='freq'))\n",
        "mfcc.add(L.Permute((2, 1, 3)))\n",
        "\n",
        "x_train = mfcc.predict(x_train)\n",
        "x_train.shape\n",
        "\n",
        "x_test = mfcc.predict(x_test)\n",
        "x_test.shape\n",
        "\n",
        "np.save('mfcc_train.npy',x_train)\n",
        "np.save('mfcc_test.npy',x_test)"
      ],
      "execution_count": 8,
      "outputs": []
    },
    {
      "cell_type": "markdown",
      "metadata": {
        "id": "74k5so8ZD2sF"
      },
      "source": [
        "# **Loading Data**"
      ]
    },
    {
      "cell_type": "code",
      "metadata": {
        "id": "Pr4ClLZxD5rr"
      },
      "source": [
        "# Change the directory \n",
        "data_dir = '/content/drive/My Drive/Aafreen_AIML/Dataset/'\n",
        "os.chdir(data_dir)\n",
        "x_train = np.load('mfcc_train.npy')\n",
        "y_train = np.load('y_train.npy')\n",
        "x_test = np.load('mfcc_test.npy')\n",
        "y_test = np.load('y_test.npy')"
      ],
      "execution_count": 9,
      "outputs": []
    },
    {
      "cell_type": "markdown",
      "metadata": {
        "id": "qhNHUhdBEGwI"
      },
      "source": [
        "# **Model**"
      ]
    },
    {
      "cell_type": "code",
      "metadata": {
        "id": "b_DfGwakEJ9i"
      },
      "source": [
        "# https://github.com/douglas125/SpeechCmdRecognition/blob/master/SpeechModels.py\n",
        "os.environ['PYTHONHASHSEED']='123'\n",
        "np.random.seed(123)\n",
        "random.seed(123)\n",
        "tf.random.set_seed(123)\n",
        "\n",
        "def AttentionModel(sr=16000, iLen=25000):\n",
        "    \n",
        "    inputs = L.Input(x_train.shape[1:], name='Input')\n",
        "\n",
        "    x = L.Conv2D(10, (5, 1), activation='relu', padding='same', name='Conv1')(inputs)\n",
        "    x = L.BatchNormalization(name='BN1')(x)\n",
        "    x = L.Conv2D(1, (5, 1), activation='relu', padding='same', name='Conv2')(x)\n",
        "    x = L.BatchNormalization(name='BN2')(x)\n",
        "\n",
        "    x = L.Reshape(x.shape[1:-1],name='Squeeze')(x)\n",
        "\n",
        "    n_units = 64\n",
        "    x = L.LSTM(n_units, return_sequences=True, name='LSTM_Sequences')(x)  \n",
        "\n",
        "    # Calculate Unit Importance\n",
        "    xLast = L.Lambda(lambda q: q[:, -1], name='FinalSequence')(x)  # [b_s, vec_dim]\n",
        "    xLast = L.Dense(xLast.shape[-1], name='UnitImportance')(xLast)\n",
        "\n",
        "    # Calculate attention\n",
        "    attScores = L.Dot(axes=[1, 2],name='AttentionScores')([xLast, x])\n",
        "    attScores = L.Softmax(name='AttentionSoftmax')(attScores)  \n",
        "\n",
        "    x = L.Dot(axes=[1, 1], name='AttentionVector')([attScores, x])  \n",
        "    x = L.Dense(32, activation='relu', name='FC')(x)\n",
        "    outputs = L.Dense(5, activation='softmax', name='Output')(x)\n",
        "    model = Model(inputs=[inputs], outputs=[outputs], name='Attention')\n",
        "\n",
        "    return model\n",
        "\n",
        "model = AttentionModel()\n",
        "model.compile(optimizer=tf.keras.optimizers.Adam(), loss=['sparse_categorical_crossentropy'], metrics=['sparse_categorical_accuracy'])\n"
      ],
      "execution_count": 10,
      "outputs": []
    },
    {
      "cell_type": "markdown",
      "metadata": {
        "id": "VnYIb1tOoja9"
      },
      "source": [
        ""
      ]
    },
    {
      "cell_type": "code",
      "metadata": {
        "id": "Rz7TfURYElDu",
        "outputId": "a5024577-c4cd-4706-bb37-e17fc4b5754f",
        "colab": {
          "base_uri": "https://localhost:8080/",
          "height": 663
        }
      },
      "source": [
        "model.summary()"
      ],
      "execution_count": 11,
      "outputs": [
        {
          "output_type": "stream",
          "text": [
            "Model: \"Attention\"\n",
            "__________________________________________________________________________________________________\n",
            "Layer (type)                    Output Shape         Param #     Connected to                     \n",
            "==================================================================================================\n",
            "Input (InputLayer)              [(None, 49, 39, 1)]  0                                            \n",
            "__________________________________________________________________________________________________\n",
            "Conv1 (Conv2D)                  (None, 49, 39, 10)   60          Input[0][0]                      \n",
            "__________________________________________________________________________________________________\n",
            "BN1 (BatchNormalization)        (None, 49, 39, 10)   40          Conv1[0][0]                      \n",
            "__________________________________________________________________________________________________\n",
            "Conv2 (Conv2D)                  (None, 49, 39, 1)    51          BN1[0][0]                        \n",
            "__________________________________________________________________________________________________\n",
            "BN2 (BatchNormalization)        (None, 49, 39, 1)    4           Conv2[0][0]                      \n",
            "__________________________________________________________________________________________________\n",
            "Squeeze (Reshape)               (None, 49, 39)       0           BN2[0][0]                        \n",
            "__________________________________________________________________________________________________\n",
            "LSTM_Sequences (LSTM)           (None, 49, 64)       26624       Squeeze[0][0]                    \n",
            "__________________________________________________________________________________________________\n",
            "FinalSequence (Lambda)          (None, 64)           0           LSTM_Sequences[0][0]             \n",
            "__________________________________________________________________________________________________\n",
            "UnitImportance (Dense)          (None, 64)           4160        FinalSequence[0][0]              \n",
            "__________________________________________________________________________________________________\n",
            "AttentionScores (Dot)           (None, 49)           0           UnitImportance[0][0]             \n",
            "                                                                 LSTM_Sequences[0][0]             \n",
            "__________________________________________________________________________________________________\n",
            "AttentionSoftmax (Softmax)      (None, 49)           0           AttentionScores[0][0]            \n",
            "__________________________________________________________________________________________________\n",
            "AttentionVector (Dot)           (None, 64)           0           AttentionSoftmax[0][0]           \n",
            "                                                                 LSTM_Sequences[0][0]             \n",
            "__________________________________________________________________________________________________\n",
            "FC (Dense)                      (None, 32)           2080        AttentionVector[0][0]            \n",
            "__________________________________________________________________________________________________\n",
            "Output (Dense)                  (None, 5)            165         FC[0][0]                         \n",
            "==================================================================================================\n",
            "Total params: 33,184\n",
            "Trainable params: 33,162\n",
            "Non-trainable params: 22\n",
            "__________________________________________________________________________________________________\n"
          ],
          "name": "stdout"
        }
      ]
    },
    {
      "cell_type": "markdown",
      "metadata": {
        "id": "gGgnvlIM3Dbg"
      },
      "source": [
        "# **Train Model**"
      ]
    },
    {
      "cell_type": "code",
      "metadata": {
        "id": "vUXR4Bp7Eyjx",
        "outputId": "e1bd7a03-15cb-4aff-ed3c-72515ca80002",
        "colab": {
          "base_uri": "https://localhost:8080/",
          "height": 1000
        }
      },
      "source": [
        "model.fit(x_train,y_train,validation_data=(x_test,y_test),verbose=2,epochs=100,shuffle=True,batch_size=20)\n",
        "#model.fit(x_train,y_train,validation_data=(x_test,y_test),verbose=1,epochs=5,shuffle=True,batch_size=20)"
      ],
      "execution_count": 12,
      "outputs": [
        {
          "output_type": "stream",
          "text": [
            "Epoch 1/100\n",
            "544/544 - 4s - loss: 0.1859 - sparse_categorical_accuracy: 0.9387 - val_loss: 0.1686 - val_sparse_categorical_accuracy: 0.9581\n",
            "Epoch 2/100\n",
            "544/544 - 3s - loss: 0.0026 - sparse_categorical_accuracy: 0.9994 - val_loss: 0.1764 - val_sparse_categorical_accuracy: 0.9548\n",
            "Epoch 3/100\n",
            "544/544 - 3s - loss: 3.1828e-04 - sparse_categorical_accuracy: 1.0000 - val_loss: 0.1930 - val_sparse_categorical_accuracy: 0.9533\n",
            "Epoch 4/100\n",
            "544/544 - 3s - loss: 1.5461e-04 - sparse_categorical_accuracy: 1.0000 - val_loss: 0.2163 - val_sparse_categorical_accuracy: 0.9504\n",
            "Epoch 5/100\n",
            "544/544 - 3s - loss: 8.7045e-05 - sparse_categorical_accuracy: 1.0000 - val_loss: 0.2052 - val_sparse_categorical_accuracy: 0.9551\n",
            "Epoch 6/100\n",
            "544/544 - 3s - loss: 5.4595e-05 - sparse_categorical_accuracy: 1.0000 - val_loss: 0.2133 - val_sparse_categorical_accuracy: 0.9548\n",
            "Epoch 7/100\n",
            "544/544 - 3s - loss: 3.6085e-05 - sparse_categorical_accuracy: 1.0000 - val_loss: 0.2093 - val_sparse_categorical_accuracy: 0.9574\n",
            "Epoch 8/100\n",
            "544/544 - 3s - loss: 2.3622e-05 - sparse_categorical_accuracy: 1.0000 - val_loss: 0.2203 - val_sparse_categorical_accuracy: 0.9559\n",
            "Epoch 9/100\n",
            "544/544 - 3s - loss: 1.5993e-05 - sparse_categorical_accuracy: 1.0000 - val_loss: 0.2286 - val_sparse_categorical_accuracy: 0.9555\n",
            "Epoch 10/100\n",
            "544/544 - 3s - loss: 1.0840e-05 - sparse_categorical_accuracy: 1.0000 - val_loss: 0.2438 - val_sparse_categorical_accuracy: 0.9533\n",
            "Epoch 11/100\n",
            "544/544 - 3s - loss: 8.0010e-06 - sparse_categorical_accuracy: 1.0000 - val_loss: 0.2386 - val_sparse_categorical_accuracy: 0.9577\n",
            "Epoch 12/100\n",
            "544/544 - 3s - loss: 5.6080e-06 - sparse_categorical_accuracy: 1.0000 - val_loss: 0.2591 - val_sparse_categorical_accuracy: 0.9515\n",
            "Epoch 13/100\n",
            "544/544 - 3s - loss: 4.0790e-06 - sparse_categorical_accuracy: 1.0000 - val_loss: 0.2661 - val_sparse_categorical_accuracy: 0.9511\n",
            "Epoch 14/100\n",
            "544/544 - 3s - loss: 2.8471e-06 - sparse_categorical_accuracy: 1.0000 - val_loss: 0.2704 - val_sparse_categorical_accuracy: 0.9511\n",
            "Epoch 15/100\n",
            "544/544 - 3s - loss: 2.0698e-06 - sparse_categorical_accuracy: 1.0000 - val_loss: 0.2769 - val_sparse_categorical_accuracy: 0.9496\n",
            "Epoch 16/100\n",
            "544/544 - 3s - loss: 1.5093e-06 - sparse_categorical_accuracy: 1.0000 - val_loss: 0.2855 - val_sparse_categorical_accuracy: 0.9500\n",
            "Epoch 17/100\n",
            "544/544 - 3s - loss: 0.0333 - sparse_categorical_accuracy: 0.9932 - val_loss: 0.2237 - val_sparse_categorical_accuracy: 0.9522\n",
            "Epoch 18/100\n",
            "544/544 - 3s - loss: 7.2768e-04 - sparse_categorical_accuracy: 1.0000 - val_loss: 0.2625 - val_sparse_categorical_accuracy: 0.9493\n",
            "Epoch 19/100\n",
            "544/544 - 3s - loss: 2.1283e-04 - sparse_categorical_accuracy: 1.0000 - val_loss: 0.2719 - val_sparse_categorical_accuracy: 0.9496\n",
            "Epoch 20/100\n",
            "544/544 - 3s - loss: 1.2140e-04 - sparse_categorical_accuracy: 1.0000 - val_loss: 0.2790 - val_sparse_categorical_accuracy: 0.9496\n",
            "Epoch 21/100\n",
            "544/544 - 3s - loss: 7.8197e-05 - sparse_categorical_accuracy: 1.0000 - val_loss: 0.2857 - val_sparse_categorical_accuracy: 0.9504\n",
            "Epoch 22/100\n",
            "544/544 - 3s - loss: 5.3793e-05 - sparse_categorical_accuracy: 1.0000 - val_loss: 0.2951 - val_sparse_categorical_accuracy: 0.9504\n",
            "Epoch 23/100\n",
            "544/544 - 3s - loss: 3.7558e-05 - sparse_categorical_accuracy: 1.0000 - val_loss: 0.3012 - val_sparse_categorical_accuracy: 0.9504\n",
            "Epoch 24/100\n",
            "544/544 - 3s - loss: 2.6596e-05 - sparse_categorical_accuracy: 1.0000 - val_loss: 0.3095 - val_sparse_categorical_accuracy: 0.9504\n",
            "Epoch 25/100\n",
            "544/544 - 3s - loss: 1.9244e-05 - sparse_categorical_accuracy: 1.0000 - val_loss: 0.3132 - val_sparse_categorical_accuracy: 0.9504\n",
            "Epoch 26/100\n",
            "544/544 - 3s - loss: 1.3922e-05 - sparse_categorical_accuracy: 1.0000 - val_loss: 0.3164 - val_sparse_categorical_accuracy: 0.9507\n",
            "Epoch 27/100\n",
            "544/544 - 3s - loss: 9.8456e-06 - sparse_categorical_accuracy: 1.0000 - val_loss: 0.3234 - val_sparse_categorical_accuracy: 0.9504\n",
            "Epoch 28/100\n",
            "544/544 - 3s - loss: 7.2756e-06 - sparse_categorical_accuracy: 1.0000 - val_loss: 0.3316 - val_sparse_categorical_accuracy: 0.9504\n",
            "Epoch 29/100\n",
            "544/544 - 3s - loss: 5.5532e-06 - sparse_categorical_accuracy: 1.0000 - val_loss: 0.3394 - val_sparse_categorical_accuracy: 0.9500\n",
            "Epoch 30/100\n",
            "544/544 - 3s - loss: 3.9951e-06 - sparse_categorical_accuracy: 1.0000 - val_loss: 0.3421 - val_sparse_categorical_accuracy: 0.9500\n",
            "Epoch 31/100\n",
            "544/544 - 3s - loss: 2.9048e-06 - sparse_categorical_accuracy: 1.0000 - val_loss: 0.3493 - val_sparse_categorical_accuracy: 0.9507\n",
            "Epoch 32/100\n",
            "544/544 - 3s - loss: 2.0897e-06 - sparse_categorical_accuracy: 1.0000 - val_loss: 0.3561 - val_sparse_categorical_accuracy: 0.9507\n",
            "Epoch 33/100\n",
            "544/544 - 3s - loss: 1.6044e-06 - sparse_categorical_accuracy: 1.0000 - val_loss: 0.3654 - val_sparse_categorical_accuracy: 0.9507\n",
            "Epoch 34/100\n",
            "544/544 - 3s - loss: 1.1421e-06 - sparse_categorical_accuracy: 1.0000 - val_loss: 0.3696 - val_sparse_categorical_accuracy: 0.9511\n",
            "Epoch 35/100\n",
            "544/544 - 3s - loss: 8.3034e-07 - sparse_categorical_accuracy: 1.0000 - val_loss: 0.3754 - val_sparse_categorical_accuracy: 0.9515\n",
            "Epoch 36/100\n",
            "544/544 - 3s - loss: 6.2901e-07 - sparse_categorical_accuracy: 1.0000 - val_loss: 0.3794 - val_sparse_categorical_accuracy: 0.9518\n",
            "Epoch 37/100\n",
            "544/544 - 3s - loss: 4.6635e-07 - sparse_categorical_accuracy: 1.0000 - val_loss: 0.3831 - val_sparse_categorical_accuracy: 0.9526\n",
            "Epoch 38/100\n",
            "544/544 - 3s - loss: 3.4314e-07 - sparse_categorical_accuracy: 1.0000 - val_loss: 0.3888 - val_sparse_categorical_accuracy: 0.9533\n",
            "Epoch 39/100\n",
            "544/544 - 3s - loss: 2.4042e-07 - sparse_categorical_accuracy: 1.0000 - val_loss: 0.3914 - val_sparse_categorical_accuracy: 0.9533\n",
            "Epoch 40/100\n",
            "544/544 - 3s - loss: 1.8718e-07 - sparse_categorical_accuracy: 1.0000 - val_loss: 0.3982 - val_sparse_categorical_accuracy: 0.9533\n",
            "Epoch 41/100\n",
            "544/544 - 3s - loss: 1.3083e-07 - sparse_categorical_accuracy: 1.0000 - val_loss: 0.4039 - val_sparse_categorical_accuracy: 0.9529\n",
            "Epoch 42/100\n",
            "544/544 - 3s - loss: 9.8315e-08 - sparse_categorical_accuracy: 1.0000 - val_loss: 0.4099 - val_sparse_categorical_accuracy: 0.9529\n",
            "Epoch 43/100\n",
            "544/544 - 3s - loss: 7.2084e-08 - sparse_categorical_accuracy: 1.0000 - val_loss: 0.4115 - val_sparse_categorical_accuracy: 0.9533\n",
            "Epoch 44/100\n",
            "544/544 - 3s - loss: 5.3885e-08 - sparse_categorical_accuracy: 1.0000 - val_loss: 0.4159 - val_sparse_categorical_accuracy: 0.9533\n",
            "Epoch 45/100\n",
            "544/544 - 3s - loss: 3.8502e-08 - sparse_categorical_accuracy: 1.0000 - val_loss: 0.4213 - val_sparse_categorical_accuracy: 0.9533\n",
            "Epoch 46/100\n",
            "544/544 - 3s - loss: 2.8904e-08 - sparse_categorical_accuracy: 1.0000 - val_loss: 0.4257 - val_sparse_categorical_accuracy: 0.9533\n",
            "Epoch 47/100\n",
            "544/544 - 3s - loss: 2.1420e-08 - sparse_categorical_accuracy: 1.0000 - val_loss: 0.4292 - val_sparse_categorical_accuracy: 0.9548\n",
            "Epoch 48/100\n",
            "544/544 - 3s - loss: 1.5635e-08 - sparse_categorical_accuracy: 1.0000 - val_loss: 0.4374 - val_sparse_categorical_accuracy: 0.9537\n",
            "Epoch 49/100\n",
            "544/544 - 3s - loss: 1.2129e-08 - sparse_categorical_accuracy: 1.0000 - val_loss: 0.4366 - val_sparse_categorical_accuracy: 0.9555\n",
            "Epoch 50/100\n",
            "544/544 - 3s - loss: 8.6010e-09 - sparse_categorical_accuracy: 1.0000 - val_loss: 0.4399 - val_sparse_categorical_accuracy: 0.9566\n",
            "Epoch 51/100\n",
            "544/544 - 3s - loss: 6.3878e-09 - sparse_categorical_accuracy: 1.0000 - val_loss: 0.4432 - val_sparse_categorical_accuracy: 0.9566\n",
            "Epoch 52/100\n",
            "544/544 - 3s - loss: 4.6676e-09 - sparse_categorical_accuracy: 1.0000 - val_loss: 0.4487 - val_sparse_categorical_accuracy: 0.9555\n",
            "Epoch 53/100\n",
            "544/544 - 3s - loss: 3.3199e-09 - sparse_categorical_accuracy: 1.0000 - val_loss: 0.4545 - val_sparse_categorical_accuracy: 0.9555\n",
            "Epoch 54/100\n",
            "544/544 - 3s - loss: 2.4105e-09 - sparse_categorical_accuracy: 1.0000 - val_loss: 0.4573 - val_sparse_categorical_accuracy: 0.9548\n",
            "Epoch 55/100\n",
            "544/544 - 3s - loss: 1.6873e-09 - sparse_categorical_accuracy: 1.0000 - val_loss: 0.4626 - val_sparse_categorical_accuracy: 0.9544\n",
            "Epoch 56/100\n",
            "544/544 - 3s - loss: 1.3805e-09 - sparse_categorical_accuracy: 1.0000 - val_loss: 0.4621 - val_sparse_categorical_accuracy: 0.9570\n",
            "Epoch 57/100\n",
            "544/544 - 3s - loss: 1.0518e-09 - sparse_categorical_accuracy: 1.0000 - val_loss: 0.4676 - val_sparse_categorical_accuracy: 0.9555\n",
            "Epoch 58/100\n",
            "544/544 - 3s - loss: 7.8888e-10 - sparse_categorical_accuracy: 1.0000 - val_loss: 0.4762 - val_sparse_categorical_accuracy: 0.9526\n",
            "Epoch 59/100\n",
            "544/544 - 3s - loss: 5.4784e-10 - sparse_categorical_accuracy: 1.0000 - val_loss: 0.4767 - val_sparse_categorical_accuracy: 0.9526\n",
            "Epoch 60/100\n",
            "544/544 - 3s - loss: 4.0540e-10 - sparse_categorical_accuracy: 1.0000 - val_loss: 0.4750 - val_sparse_categorical_accuracy: 0.9540\n",
            "Epoch 61/100\n",
            "544/544 - 3s - loss: 3.7253e-10 - sparse_categorical_accuracy: 1.0000 - val_loss: 0.4799 - val_sparse_categorical_accuracy: 0.9537\n",
            "Epoch 62/100\n",
            "544/544 - 3s - loss: 2.7392e-10 - sparse_categorical_accuracy: 1.0000 - val_loss: 0.4782 - val_sparse_categorical_accuracy: 0.9540\n",
            "Epoch 63/100\n",
            "544/544 - 3s - loss: 2.0818e-10 - sparse_categorical_accuracy: 1.0000 - val_loss: 0.4813 - val_sparse_categorical_accuracy: 0.9540\n",
            "Epoch 64/100\n",
            "544/544 - 3s - loss: 1.6435e-10 - sparse_categorical_accuracy: 1.0000 - val_loss: 0.4862 - val_sparse_categorical_accuracy: 0.9540\n",
            "Epoch 65/100\n",
            "544/544 - 3s - loss: 1.3148e-10 - sparse_categorical_accuracy: 1.0000 - val_loss: 0.4791 - val_sparse_categorical_accuracy: 0.9555\n",
            "Epoch 66/100\n",
            "544/544 - 3s - loss: 1.5339e-10 - sparse_categorical_accuracy: 1.0000 - val_loss: 0.4875 - val_sparse_categorical_accuracy: 0.9548\n",
            "Epoch 67/100\n",
            "544/544 - 3s - loss: 8.7654e-11 - sparse_categorical_accuracy: 1.0000 - val_loss: 0.4878 - val_sparse_categorical_accuracy: 0.9566\n",
            "Epoch 68/100\n",
            "544/544 - 3s - loss: 1.0957e-10 - sparse_categorical_accuracy: 1.0000 - val_loss: 0.4898 - val_sparse_categorical_accuracy: 0.9551\n",
            "Epoch 69/100\n",
            "544/544 - 3s - loss: 7.6697e-11 - sparse_categorical_accuracy: 1.0000 - val_loss: 0.4889 - val_sparse_categorical_accuracy: 0.9570\n",
            "Epoch 70/100\n",
            "544/544 - 3s - loss: 5.4784e-11 - sparse_categorical_accuracy: 1.0000 - val_loss: 0.4883 - val_sparse_categorical_accuracy: 0.9563\n",
            "Epoch 71/100\n",
            "544/544 - 3s - loss: 5.4784e-11 - sparse_categorical_accuracy: 1.0000 - val_loss: 0.4846 - val_sparse_categorical_accuracy: 0.9566\n",
            "Epoch 72/100\n",
            "544/544 - 3s - loss: 3.2870e-11 - sparse_categorical_accuracy: 1.0000 - val_loss: 0.4871 - val_sparse_categorical_accuracy: 0.9566\n",
            "Epoch 73/100\n",
            "544/544 - 3s - loss: 4.3827e-11 - sparse_categorical_accuracy: 1.0000 - val_loss: 0.4906 - val_sparse_categorical_accuracy: 0.9559\n",
            "Epoch 74/100\n",
            "544/544 - 3s - loss: 1.0957e-11 - sparse_categorical_accuracy: 1.0000 - val_loss: 0.4923 - val_sparse_categorical_accuracy: 0.9559\n",
            "Epoch 75/100\n",
            "544/544 - 3s - loss: 1.0957e-11 - sparse_categorical_accuracy: 1.0000 - val_loss: 0.4970 - val_sparse_categorical_accuracy: 0.9555\n",
            "Epoch 76/100\n",
            "544/544 - 3s - loss: 0.0000e+00 - sparse_categorical_accuracy: 1.0000 - val_loss: 0.4970 - val_sparse_categorical_accuracy: 0.9551\n",
            "Epoch 77/100\n",
            "544/544 - 3s - loss: 4.3827e-11 - sparse_categorical_accuracy: 1.0000 - val_loss: 0.5058 - val_sparse_categorical_accuracy: 0.9537\n",
            "Epoch 78/100\n",
            "544/544 - 3s - loss: 0.0000e+00 - sparse_categorical_accuracy: 1.0000 - val_loss: 0.4997 - val_sparse_categorical_accuracy: 0.9548\n",
            "Epoch 79/100\n",
            "544/544 - 3s - loss: 1.0957e-11 - sparse_categorical_accuracy: 1.0000 - val_loss: 0.5038 - val_sparse_categorical_accuracy: 0.9533\n",
            "Epoch 80/100\n",
            "544/544 - 3s - loss: 1.0957e-11 - sparse_categorical_accuracy: 1.0000 - val_loss: 0.5023 - val_sparse_categorical_accuracy: 0.9540\n",
            "Epoch 81/100\n",
            "544/544 - 3s - loss: 1.0957e-11 - sparse_categorical_accuracy: 1.0000 - val_loss: 0.4987 - val_sparse_categorical_accuracy: 0.9563\n",
            "Epoch 82/100\n",
            "544/544 - 3s - loss: 1.0957e-11 - sparse_categorical_accuracy: 1.0000 - val_loss: 0.4966 - val_sparse_categorical_accuracy: 0.9555\n",
            "Epoch 83/100\n",
            "544/544 - 3s - loss: 0.0000e+00 - sparse_categorical_accuracy: 1.0000 - val_loss: 0.5005 - val_sparse_categorical_accuracy: 0.9548\n",
            "Epoch 84/100\n",
            "544/544 - 3s - loss: 0.0000e+00 - sparse_categorical_accuracy: 1.0000 - val_loss: 0.4988 - val_sparse_categorical_accuracy: 0.9555\n",
            "Epoch 85/100\n",
            "544/544 - 3s - loss: 0.0000e+00 - sparse_categorical_accuracy: 1.0000 - val_loss: 0.5023 - val_sparse_categorical_accuracy: 0.9551\n",
            "Epoch 86/100\n",
            "544/544 - 3s - loss: 0.0000e+00 - sparse_categorical_accuracy: 1.0000 - val_loss: 0.5007 - val_sparse_categorical_accuracy: 0.9555\n",
            "Epoch 87/100\n",
            "544/544 - 3s - loss: 0.0000e+00 - sparse_categorical_accuracy: 1.0000 - val_loss: 0.5040 - val_sparse_categorical_accuracy: 0.9544\n",
            "Epoch 88/100\n",
            "544/544 - 3s - loss: 0.0000e+00 - sparse_categorical_accuracy: 1.0000 - val_loss: 0.5068 - val_sparse_categorical_accuracy: 0.9537\n",
            "Epoch 89/100\n",
            "544/544 - 3s - loss: 0.0000e+00 - sparse_categorical_accuracy: 1.0000 - val_loss: 0.5060 - val_sparse_categorical_accuracy: 0.9537\n",
            "Epoch 90/100\n",
            "544/544 - 3s - loss: 0.0000e+00 - sparse_categorical_accuracy: 1.0000 - val_loss: 0.5072 - val_sparse_categorical_accuracy: 0.9537\n",
            "Epoch 91/100\n",
            "544/544 - 3s - loss: 0.0000e+00 - sparse_categorical_accuracy: 1.0000 - val_loss: 0.5074 - val_sparse_categorical_accuracy: 0.9540\n",
            "Epoch 92/100\n",
            "544/544 - 3s - loss: 0.0000e+00 - sparse_categorical_accuracy: 1.0000 - val_loss: 0.5071 - val_sparse_categorical_accuracy: 0.9540\n",
            "Epoch 93/100\n",
            "544/544 - 3s - loss: 0.0000e+00 - sparse_categorical_accuracy: 1.0000 - val_loss: 0.5087 - val_sparse_categorical_accuracy: 0.9533\n",
            "Epoch 94/100\n",
            "544/544 - 3s - loss: 0.0000e+00 - sparse_categorical_accuracy: 1.0000 - val_loss: 0.5118 - val_sparse_categorical_accuracy: 0.9518\n",
            "Epoch 95/100\n",
            "544/544 - 3s - loss: 0.0000e+00 - sparse_categorical_accuracy: 1.0000 - val_loss: 0.5102 - val_sparse_categorical_accuracy: 0.9518\n",
            "Epoch 96/100\n",
            "544/544 - 3s - loss: 0.0000e+00 - sparse_categorical_accuracy: 1.0000 - val_loss: 0.5111 - val_sparse_categorical_accuracy: 0.9518\n",
            "Epoch 97/100\n",
            "544/544 - 3s - loss: 0.0000e+00 - sparse_categorical_accuracy: 1.0000 - val_loss: 0.5112 - val_sparse_categorical_accuracy: 0.9533\n",
            "Epoch 98/100\n",
            "544/544 - 3s - loss: 0.0000e+00 - sparse_categorical_accuracy: 1.0000 - val_loss: 0.5138 - val_sparse_categorical_accuracy: 0.9518\n",
            "Epoch 99/100\n",
            "544/544 - 3s - loss: 0.0000e+00 - sparse_categorical_accuracy: 1.0000 - val_loss: 0.5112 - val_sparse_categorical_accuracy: 0.9522\n",
            "Epoch 100/100\n",
            "544/544 - 3s - loss: 0.0000e+00 - sparse_categorical_accuracy: 1.0000 - val_loss: 0.5129 - val_sparse_categorical_accuracy: 0.9518\n"
          ],
          "name": "stdout"
        },
        {
          "output_type": "execute_result",
          "data": {
            "text/plain": [
              "<tensorflow.python.keras.callbacks.History at 0x7fb61650c5c0>"
            ]
          },
          "metadata": {
            "tags": []
          },
          "execution_count": 12
        }
      ]
    },
    {
      "cell_type": "markdown",
      "metadata": {
        "id": "EtK-RQaS3MvI"
      },
      "source": [
        "# **Save Model**"
      ]
    },
    {
      "cell_type": "code",
      "metadata": {
        "id": "SjGBBGPk3Pek"
      },
      "source": [
        "data_dir = '/content/drive/My Drive/Aafreen_AIML/Codes/'\n",
        "os.chdir(data_dir)\n",
        "model.save('model.h5') "
      ],
      "execution_count": 13,
      "outputs": []
    },
    {
      "cell_type": "markdown",
      "metadata": {
        "id": "oYIPUElYF11F"
      },
      "source": [
        "# **Check Attention**"
      ]
    },
    {
      "cell_type": "code",
      "metadata": {
        "id": "oD60c-A2F5ju",
        "outputId": "f02a3097-d0a3-40b5-e8e2-f17b60398fcf",
        "colab": {
          "base_uri": "https://localhost:8080/",
          "height": 1000
        }
      },
      "source": [
        "from matplotlib import pyplot as plt\n",
        "model2 = Model(inputs=model.input, outputs=[model.get_layer('Output').output, \n",
        "                                            model.get_layer('AttentionSoftmax').output])\n",
        "data_dir = '/content/drive/My Drive/Aafreen_AIML/Dataset/'\n",
        "os.chdir(data_dir)\n",
        "a,b = model2.predict(x_test)\n",
        "xx_test = np.load('x_test.npy')\n",
        "for aid in range(0,100,18):\n",
        "    plt.plot(range(len(b[aid])), np.log(b[aid]))\n",
        "    plt.show()\n",
        "    plt.plot(range(len(xx_test[aid])),xx_test[aid])\n",
        "    plt.show()"
      ],
      "execution_count": 14,
      "outputs": [
        {
          "output_type": "display_data",
          "data": {
            "image/png": "[encoded data removed]",
            "text/plain": [
              "<Figure size 432x288 with 1 Axes>"
            ]
          },
          "metadata": {
            "tags": [],
            "needs_background": "light"
          }
        },
        {
          "output_type": "display_data",
          "data": {
            "image/png": "[encoded data removed]",
            "text/plain": [
              "<Figure size 432x288 with 1 Axes>"
            ]
          },
          "metadata": {
            "tags": [],
            "needs_background": "light"
          }
        },
        {
          "output_type": "display_data",
          "data": {
            "image/png": "[encoded data removed]",
            "text/plain": [
              "<Figure size 432x288 with 1 Axes>"
            ]
          },
          "metadata": {
            "tags": [],
            "needs_background": "light"
          }
        },
        {
          "output_type": "display_data",
          "data": {
            "image/png": "[encoded data removed]",
            "text/plain": [
              "<Figure size 432x288 with 1 Axes>"
            ]
          },
          "metadata": {
            "tags": [],
            "needs_background": "light"
          }
        },
        {
          "output_type": "display_data",
          "data": {
            "image/png": "[encoded data removed]",
            "text/plain": [
              "<Figure size 432x288 with 1 Axes>"
            ]
          },
          "metadata": {
            "tags": [],
            "needs_background": "light"
          }
        },
        {
          "output_type": "display_data",
          "data": {
            "image/png": "[encoded data removed]",
            "text/plain": [
              "<Figure size 432x288 with 1 Axes>"
            ]
          },
          "metadata": {
            "tags": [],
            "needs_background": "light"
          }
        },
        {
          "output_type": "display_data",
          "data": {
            "image/png": "[encoded data removed]",
            "text/plain": [
              "<Figure size 432x288 with 1 Axes>"
            ]
          },
          "metadata": {
            "tags": [],
            "needs_background": "light"
          }
        },
        {
          "output_type": "display_data",
          "data": {
            "image/png": "[encoded data removed]",
            "text/plain": [
              "<Figure size 432x288 with 1 Axes>"
            ]
          },
          "metadata": {
            "tags": [],
            "needs_background": "light"
          }
        },
        {
          "output_type": "display_data",
          "data": {
            "image/png": "[encoded data removed]",
            "text/plain": [
              "<Figure size 432x288 with 1 Axes>"
            ]
          },
          "metadata": {
            "tags": [],
            "needs_background": "light"
          }
        },
        {
          "output_type": "display_data",
          "data": {
            "image/png": "[encoded data removed]",
            "text/plain": [
              "<Figure size 432x288 with 1 Axes>"
            ]
          },
          "metadata": {
            "tags": [],
            "needs_background": "light"
          }
        },
        {
          "output_type": "display_data",
          "data": {
            "image/png": "[encoded data removed]",
            "text/plain": [
              "<Figure size 432x288 with 1 Axes>"
            ]
          },
          "metadata": {
            "tags": [],
            "needs_background": "light"
          }
        },
        {
          "output_type": "display_data",
          "data": {
            "image/png": "[encoded data removed]",
            "text/plain": [
              "<Figure size 432x288 with 1 Axes>"
            ]
          },
          "metadata": {
            "tags": [],
            "needs_background": "light"
          }
        }
      ]
    },
    {
      "cell_type": "code",
      "metadata": {
        "id": "exNGa2vjmN4B",
        "outputId": "86791a5f-35ee-4f75-f28f-ea2059d24069",
        "colab": {
          "base_uri": "https://localhost:8080/",
          "height": 102
        }
      },
      "source": [
        "pip install ffmpeg_python"
      ],
      "execution_count": 15,
      "outputs": [
        {
          "output_type": "stream",
          "text": [
            "Collecting ffmpeg_python\n",
            "  Downloading https://files.pythonhosted.org/packages/d7/0c/56be52741f75bad4dc6555991fabd2e07b432d333da82c11ad701123888a/ffmpeg_python-0.2.0-py3-none-any.whl\n",
            "Requirement already satisfied: future in /usr/local/lib/python3.6/dist-packages (from ffmpeg_python) (0.16.0)\n",
            "Installing collected packages: ffmpeg-python\n",
            "Successfully installed ffmpeg-python-0.2.0\n"
          ],
          "name": "stdout"
        }
      ]
    },
    {
      "cell_type": "markdown",
      "metadata": {
        "id": "Fk1edlV2lXM4"
      },
      "source": [
        "# **Test Model**"
      ]
    },
    {
      "cell_type": "code",
      "metadata": {
        "id": "dmFhBEotliy8"
      },
      "source": [
        "# all imports\n",
        "from IPython.display import Javascript\n",
        "from google.colab import output\n",
        "from base64 import b64decode\n",
        "import ffmpeg\n",
        " \n",
        "RECORD = \"\"\"\n",
        "const sleep  = time => new Promise(resolve => setTimeout(resolve, time))\n",
        "const b2text = blob => new Promise(resolve => {\n",
        "  const reader = new FileReader()\n",
        "  reader.onloadend = e => resolve(e.srcElement.result)\n",
        "  reader.readAsDataURL(blob)\n",
        "})\n",
        "var record = time => new Promise(async resolve => {\n",
        "  stream = await navigator.mediaDevices.getUserMedia({ audio: true })\n",
        "  recorder = new MediaRecorder(stream)\n",
        "  chunks = []\n",
        "  recorder.ondataavailable = e => chunks.push(e.data)\n",
        "  recorder.start()\n",
        "  await sleep(time)\n",
        "  recorder.onstop = async ()=>{\n",
        "    blob = new Blob(chunks)\n",
        "    text = await b2text(blob)\n",
        "    resolve(text)\n",
        "  }\n",
        "  recorder.stop()\n",
        "})\n",
        "\"\"\"\n",
        " \n",
        "def record(sec=1, path='audio.wav'):\n",
        "  display(Javascript(RECORD))\n",
        "  s = output.eval_js('record(%d)' % (sec*1000))\n",
        "  b = b64decode(s.split(',')[1])\n",
        "  process = (ffmpeg\n",
        "    .input('pipe:0')\n",
        "    .output(path, format='wav', ac=1, ar=16000)\n",
        "    .run_async(pipe_stdin=True, pipe_stdout=True, pipe_stderr=True, quiet=True, overwrite_output=True)\n",
        "  )\n",
        "  process.communicate(input=b)"
      ],
      "execution_count": 25,
      "outputs": []
    },
    {
      "cell_type": "code",
      "metadata": {
        "id": "6F21KsQdmxpE",
        "outputId": "d631a634-e98e-439f-9c4b-6bccf9e32e60",
        "colab": {
          "base_uri": "https://localhost:8080/",
          "height": 88
        }
      },
      "source": [
        "from tensorflow import keras\n",
        "import soundfile as sf\n",
        "import numpy as np\n",
        " \n",
        "rootPath = '/content/drive/My Drive/Aafreen_AIML/Codes/'\n",
        "model = keras.models.load_model(rootPath + '/model.h5')\n",
        "record(path=rootPath + '/testfile.wav')\n",
        "l = sf.read(rootPath + '/testfile.wav')[0]\n",
        "l = l[0:8000]\n",
        "x = len(l)\n",
        "p = 25000-x\n",
        "nx = np.zeros(25000)\n",
        "for y in range(1 ,p, 500):\n",
        "    nx[y:y+x] = l\n",
        "nx = nx.reshape([1, len(nx)])\n",
        " \n",
        "mfcc = Sequential()\n",
        "mfcc.add(L.Reshape((1, -1)))\n",
        "mfcc.add(Melspectrogram(padding='same', sr=16000, n_mels=39, n_dft = 1024,\n",
        "                        power_melgram=2.0, return_decibel_melgram=True,\n",
        "                        trainable_fb=False, trainable_kernel=False,\n",
        "                        name='mel_stft'))\n",
        "mfcc.add(Normalization2D(str_axis='freq'))\n",
        "mfcc.add(L.Permute((2, 1, 3)))\n",
        " \n",
        "nx = mfcc.predict(nx) \n",
        "y = model.predict(nx)[0]\n",
        "y = np.argmax(y)\n",
        "words = ['back','forward', 'left', 'right', 'stop']\n",
        "print (words [y])"
      ],
      "execution_count": 26,
      "outputs": [
        {
          "output_type": "display_data",
          "data": {
            "application/javascript": [
              "\n",
              "const sleep  = time => new Promise(resolve => setTimeout(resolve, time))\n",
              "const b2text = blob => new Promise(resolve => {\n",
              "  const reader = new FileReader()\n",
              "  reader.onloadend = e => resolve(e.srcElement.result)\n",
              "  reader.readAsDataURL(blob)\n",
              "})\n",
              "var record = time => new Promise(async resolve => {\n",
              "  stream = await navigator.mediaDevices.getUserMedia({ audio: true })\n",
              "  recorder = new MediaRecorder(stream)\n",
              "  chunks = []\n",
              "  recorder.ondataavailable = e => chunks.push(e.data)\n",
              "  recorder.start()\n",
              "  await sleep(time)\n",
              "  recorder.onstop = async ()=>{\n",
              "    blob = new Blob(chunks)\n",
              "    text = await b2text(blob)\n",
              "    resolve(text)\n",
              "  }\n",
              "  recorder.stop()\n",
              "})\n"
            ],
            "text/plain": [
              "<IPython.core.display.Javascript object>"
            ]
          },
          "metadata": {
            "tags": []
          }
        },
        {
          "output_type": "stream",
          "text": [
            "WARNING:tensorflow:11 out of the last 11 calls to <function Model.make_predict_function.<locals>.predict_function at 0x7fb6047f6400> triggered tf.function retracing. Tracing is expensive and the excessive number of tracings could be due to (1) creating @tf.function repeatedly in a loop, (2) passing tensors with different shapes, (3) passing Python objects instead of tensors. For (1), please define your @tf.function outside of the loop. For (2), @tf.function has experimental_relax_shapes=True option that relaxes argument shapes that can avoid unnecessary retracing. For (3), please refer to https://www.tensorflow.org/tutorials/customization/performance#python_or_tensor_args and https://www.tensorflow.org/api_docs/python/tf/function for  more details.\n",
            "WARNING:tensorflow:11 out of the last 11 calls to <function Model.make_predict_function.<locals>.predict_function at 0x7fb6047769d8> triggered tf.function retracing. Tracing is expensive and the excessive number of tracings could be due to (1) creating @tf.function repeatedly in a loop, (2) passing tensors with different shapes, (3) passing Python objects instead of tensors. For (1), please define your @tf.function outside of the loop. For (2), @tf.function has experimental_relax_shapes=True option that relaxes argument shapes that can avoid unnecessary retracing. For (3), please refer to https://www.tensorflow.org/tutorials/customization/performance#python_or_tensor_args and https://www.tensorflow.org/api_docs/python/tf/function for  more details.\n",
            "forward\n"
          ],
          "name": "stdout"
        }
      ]
    }
  ]
}